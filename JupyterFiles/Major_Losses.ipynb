{
 "cells": [
  {
   "cell_type": "code",
   "execution_count": null,
   "id": "c2f162c2-5709-40e9-b8ca-5904f59b514b",
   "metadata": {},
   "outputs": [],
   "source": [
    "from scipy.optimize import root_scalar\n",
    "import math\n",
    "\n",
    "class MajorLosses:\n",
    "    def __init__(self, velocity, density, diameter, roughness, length, dyn_visc):\n",
    "        self.velocity = velocity\n",
    "        self.density = density\n",
    "        self.diameter = diameter\n",
    "        self.roughness = roughness\n",
    "        self.length = length\n",
    "        self.dyn_visc = dyn_visc\n",
    "\n",
    "    def calculate_friction_factor(self):\n",
    "        # Calculates friction factor using Colebrook equation\n",
    "        # Accounts for turbulent and laminar flow\n",
    "        Re = (self.velocity * self.diameter * self.density) / self.dyn_visc\n",
    "        if Re < 2300:\n",
    "            # Laminar flow\n",
    "            f = 64 / Re\n",
    "        else:\n",
    "            # Turbulent flow\n",
    "            #simplified bisection itteration method\n",
    "            f_func = lambda x: 1 / math.sqrt(x) + 2 * math.log10(self.roughness / (3.7 * self.diameter) + 2.51 / (Re * math.sqrt(x)))\n",
    "            f = root_scalar(f_func, bracket=[1e-4, 0.1], method='brentq').root\n",
    "        return f\n",
    "\n",
    "    def calculate_major_loss(self):\n",
    "        # Calculates the major loss\n",
    "        f = self.calculate_friction_factor()\n",
    "        major_loss = f * (self.length / self.diameter) * (self.velocity ** 2 / (2 * 9.81))\n",
    "        return f, major_loss\n",
    "    \n",
    "    \n"
   ]
  }
 ],
 "metadata": {
  "kernelspec": {
   "display_name": "Python 3 (ipykernel)",
   "language": "python",
   "name": "python3"
  },
  "language_info": {
   "codemirror_mode": {
    "name": "ipython",
    "version": 3
   },
   "file_extension": ".py",
   "mimetype": "text/x-python",
   "name": "python",
   "nbconvert_exporter": "python",
   "pygments_lexer": "ipython3",
   "version": "3.9.13"
  }
 },
 "nbformat": 4,
 "nbformat_minor": 5
}
