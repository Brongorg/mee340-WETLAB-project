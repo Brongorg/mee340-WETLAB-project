{
 "cells": [
  {
   "cell_type": "code",
   "execution_count": null,
   "id": "722731d0-443b-47d2-9e8e-15f24d999c74",
   "metadata": {},
   "outputs": [],
   "source": [
    "class MinorLosses:\n",
    "    #use for every flow outlet of the bucket(four)\n",
    "    #determines minor loss for every pipe component in that outlet of flow\n",
    "    def __init__(self, velocity, k_list, num_list):\n",
    "        self.velocity = velocity  # Velocity of the\n",
    "        self.k_list = k_list  # List of minor loss coefficients for every \n",
    "        self.num_list = num_list # List of number of components for each fitti\n",
    "        \n",
    "    def calculate_minor_loss(self):\n",
    "        # Calculates the total minor loss due to all components in the pipe\n",
    "        minor_loss = sum([k * (self.velocity**2 / (2 * g)) * num for k, num in zip(self.k_list, self.num_list)])\n",
    "        return minor_loss\n",
    "        "
   ]
  }
 ],
 "metadata": {
  "kernelspec": {
   "display_name": "Python 3 (ipykernel)",
   "language": "python",
   "name": "python3"
  },
  "language_info": {
   "codemirror_mode": {
    "name": "ipython",
    "version": 3
   },
   "file_extension": ".py",
   "mimetype": "text/x-python",
   "name": "python",
   "nbconvert_exporter": "python",
   "pygments_lexer": "ipython3",
   "version": "3.9.13"
  }
 },
 "nbformat": 4,
 "nbformat_minor": 5
}
