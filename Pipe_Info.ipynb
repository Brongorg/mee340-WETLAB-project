{
 "cells": [
  {
   "cell_type": "code",
   "execution_count": null,
   "id": "9fd4c35a-8fcf-476f-b5b1-9c3bd6623f7c",
   "metadata": {},
   "outputs": [
    {
     "name": "stdout",
     "output_type": "stream",
     "text": [
      "Enter pipe type:  black obsiden\n",
      "Enter diameter of black obsiden pipe (in meters):  12\n",
      "Enter length of black obsiden pipe (in meters):  1\n",
      "Enter epsilon of black obsiden pipe (in meters):  1\n",
      "Enter number of black obsiden pipes:  34\n",
      "Do you want to enter another pipe? (Y/N):  Y\n"
     ]
    }
   ],
   "source": [
    "def Pipe_info():\n",
    "    pipe_type = input(\"Enter pipe type: \")\n",
    "    diameter = float(input(\"Enter diameter of {} pipe (in meters): \".format(pipe_type)))\n",
    "    length = float(input(\"Enter length of {} pipe (in meters): \".format(pipe_type)))\n",
    "    epsilon = float(input(\"Enter epsilon of {} pipe (in millimeter): \".format(pipe_type)))\n",
    "    num_pipes = int(input(\"Enter number of {} pipes: \".format(pipe_type)))\n",
    "    cross_sectional_area = (3.14159 * (diameter ** 2)) / 4\n",
    "    pipe_info = {\n",
    "        \"type\": pipe_type,\n",
    "        \"diameter\": diameter,\n",
    "        \"length\": length,\n",
    "        \"epsilon\": epsilon,\n",
    "        \"num_pipes\": num_pipes,\n",
    "        \"cross_sectional_area\": cross_sectional_area  \n",
    "    }\n",
    "    return pipe_info\n",
    "\n",
    "\n",
    "\n",
    "\n",
    "\n",
    "\n",
    "pipe_list = []\n",
    "\n",
    "while True:\n",
    "    pipe_info = Pipe_info()\n",
    "    pipe_list.append(pipe_info)\n",
    "    cont = input(\"Do you want to enter another pipe? (Y/N): \")\n",
    "    if cont.lower() == \"n\":\n",
    "        break\n",
    "        \n",
    "total_length = 0  #used for finding Friction Factor\n",
    "for pipe in pipe_list:\n",
    "    length = pipe[\"length\"]\n",
    "    num_pipes = pipe[\"num_pipes\"]\n",
    "    total_length += length * num_pipes\n",
    "    \n",
    "    \n",
    "    #Calc Reynolds \n",
    "    dens = 1000  # fluid density (kg/m^3)\n",
    "    mu = 0.001  # fluid dynamic viscosity (Pa*s)\n",
    "    v = 0.5     # average fluid velocity (m/s) - set as example\n",
    "    D = pipe[\"diameter\"]\n",
    "    Re = rho * v * D / mu\n",
    "    \n",
    "  "
   ]
  },
  {
   "cell_type": "code",
   "execution_count": null,
   "id": "c1c59f5d-c6c6-4f75-bc24-a9662ef19a3b",
   "metadata": {},
   "outputs": [],
   "source": []
  }
 ],
 "metadata": {
  "kernelspec": {
   "display_name": "Python 3 (ipykernel)",
   "language": "python",
   "name": "python3"
  },
  "language_info": {
   "codemirror_mode": {
    "name": "ipython",
    "version": 3
   },
   "file_extension": ".py",
   "mimetype": "text/x-python",
   "name": "python",
   "nbconvert_exporter": "python",
   "pygments_lexer": "ipython3",
   "version": "3.9.13"
  }
 },
 "nbformat": 4,
 "nbformat_minor": 5
}
