{
 "cells": [
  {
   "cell_type": "code",
   "execution_count": null,
   "id": "c2f162c2-5709-40e9-b8ca-5904f59b514b",
   "metadata": {},
   "outputs": [],
   "source": [
    "class MajorLosses:\n",
    "    def __init__(self, velocity,density,diameter, roughness, length,dyn_visc):\n",
    "        self.velocuty = velocity  \n",
    "        self.diameter = diameter \n",
    "        self.roughness = roughness  # Roughness of the pipe in meters\n",
    "        self.length = length  \n",
    "        self.density = density \n",
    "        self.mu = mu  # dynamic viscocity\n",
    "        \n",
    "    def calculate_friction_factor(self):\n",
    "        # Calculates friction factor using Colebrook equation\n",
    "        # Accounts for turbulant and laminar flow \n",
    "        Re = (self.velocity * self.diameter*self.density) / ((math.pi / 4) * self.diameter**2 * mu)\n",
    "        if Re < 2300:\n",
    "            # Laminar flow\n",
    "            f = 64 / Re\n",
    "        else:\n",
    "            # Turbulent flow\n",
    "            f = -1.8 * math.log10((self.roughness / (3.7 * self.diameter)) + (6.9 / Re)**(1/2))\n",
    "        return f\n",
    "    \n",
    "    def calculate_major_loss(self):\n",
    "        # Calculates the major loss using Darcy equation\n",
    "        f = self.calculate_friction_factor()\n",
    "        major_loss = f * (self.length / self.diameter) * (self.velocity**2 / (2 * g))\n",
    "        return major_loss\n",
    "    \n",
    "        "
   ]
  }
 ],
 "metadata": {
  "kernelspec": {
   "display_name": "Python 3 (ipykernel)",
   "language": "python",
   "name": "python3"
  },
  "language_info": {
   "codemirror_mode": {
    "name": "ipython",
    "version": 3
   },
   "file_extension": ".py",
   "mimetype": "text/x-python",
   "name": "python",
   "nbconvert_exporter": "python",
   "pygments_lexer": "ipython3",
   "version": "3.9.13"
  }
 },
 "nbformat": 4,
 "nbformat_minor": 5
}
