{
 "cells": [
  {
   "cell_type": "code",
   "execution_count": 37,
   "metadata": {},
   "outputs": [
    {
     "name": "stdout",
     "output_type": "stream",
     "text": [
      "1\n",
      "{'pipe0': {'type': 'Bendy', 'diameter': 1.0, 'length': 1.0, 'epsilon': 0.1, 'num_pipes': 1, 'cross_sectional_area': 0.7853975}}\n",
      "pipeType:  PipeName \n",
      " Surface Roughness:  0.7853975 \n",
      " diameter:  1 \n",
      " length:  PipeName \n",
      " Area:  None \n",
      "\n"
     ]
    }
   ],
   "source": [
    "import Pipe_Class as PClass\n",
    "import pipe_Call as PCall\n",
    "\n",
    "pipeCount = int(input(\"Number of Pipes in the system: \"))\n",
    "print(pipeCount)\n",
    "\n",
    "d = {}\n",
    "for pipe in range(pipeCount):\n",
    "    d[\"pipe\"+ str(pipe)] = PCall.pipeCall()\n",
    "\n",
    "print(d) \n",
    "\n",
    "dia = 1\n",
    "lenny = 1\n",
    "rough = 1\n",
    "\n",
    "pipe1= PClass.pipe_Info(\"PipeName\", dia, lenny , rough, \"none\")\n",
    "pipe1.displayClassInfo()"
   ]
  }
 ],
 "metadata": {
  "kernelspec": {
   "display_name": "Python 3",
   "language": "python",
   "name": "python3"
  },
  "language_info": {
   "name": "python",
   "version": "3.8.8"
  },
  "orig_nbformat": 4
 },
 "nbformat": 4,
 "nbformat_minor": 2
}
