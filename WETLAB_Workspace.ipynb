{
 "cells": [
  {
   "cell_type": "code",
   "execution_count": 13,
   "metadata": {},
   "outputs": [
    {
     "name": "stdout",
     "output_type": "stream",
     "text": [
      "             Unnamed: 0      pipe0    pipe1\n",
      "0                  type       long    short\n",
      "1              diameter        1.0      2.0\n",
      "2                length        1.0      2.0\n",
      "3               epsilon        1.0      2.0\n",
      "4             num_pipes          1        2\n",
      "5  cross_sectional_area  0.7853975  3.14159\n"
     ]
    }
   ],
   "source": [
    "import Pipe_Class as PClass\n",
    "import pipe_Call as PCall\n",
    "import pandas as pd\n",
    "\n",
    "\n",
    "response = input(\"Is this the first instance for this pipe system : Y/N:\")\n",
    "\n",
    "# Prompts the user to answer information about the system\n",
    "if(response == \"Y\"):\n",
    "\n",
    "    pipeCount = int(input(\"Number of Pipes in the system: \"))\n",
    "    print(pipeCount)\n",
    "\n",
    "    d = {}\n",
    "    for pipe in range(pipeCount):\n",
    "        d[\"pipe\"+ str(pipe)] = PCall.pipeCall()\n",
    "    \n",
    "    \n",
    "    pipeFile = pd.DataFrame(d)\n",
    "    print(pipeFile)\n",
    "    pipeFile.to_csv('pipe_File.csv')\n",
    "\n",
    "\n",
    "#Pulls information from the file if a system has already been described.\n",
    "elif(response == 'N'): \n",
    "    \n",
    "    pipeFile = pd.read_csv('pipe_File.csv')\n",
    "    print(pipeFile)\n",
    "    \n",
    "\n",
    "    \n"
   ]
  },
  {
   "cell_type": "code",
   "execution_count": null,
   "metadata": {},
   "outputs": [],
   "source": [
    "\n",
    "Heighto = float(input(\"Input Fluid height: \"))\n",
    "LargestDiameter = float(input(\"Top Diameter: \"))\n",
    "SmallestDiameter = float(input(\"Bottom Diameter: \"))\n",
    "intervalHeight = float(input(\"Rib Height: \"))\n",
    "\n",
    "intervals = int(Heighto/intervalHeight)\n",
    "slope = (LargestDiameter - SmallestDiameter)/Heighto\n",
    "areas = []\n",
    "for i in range(intervals):\n",
    "    areas.append(slope*i)\n",
    "    \n",
    "\n",
    "    \n"
   ]
  }
 ],
 "metadata": {
  "kernelspec": {
   "display_name": "Python 3",
   "language": "python",
   "name": "python3"
  },
  "language_info": {
   "codemirror_mode": {
    "name": "ipython",
    "version": 3
   },
   "file_extension": ".py",
   "mimetype": "text/x-python",
   "name": "python",
   "nbconvert_exporter": "python",
   "pygments_lexer": "ipython3",
   "version": "3.8.8"
  },
  "orig_nbformat": 4
 },
 "nbformat": 4,
 "nbformat_minor": 2
}
