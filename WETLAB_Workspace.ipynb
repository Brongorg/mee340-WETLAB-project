{
 "cells": [
  {
   "cell_type": "code",
   "execution_count": 6,
   "metadata": {},
   "outputs": [],
   "source": [
    "import Pipe_Class as PClass\n",
    "import pipe_Call as PCall\n",
    "import Full_Analysis as FA\n",
    "import pandas as pd\n",
    "import numpy as np"
   ]
  },
  {
   "cell_type": "code",
   "execution_count": 13,
   "metadata": {},
   "outputs": [
    {
     "name": "stdout",
     "output_type": "stream",
     "text": [
      "             Unnamed: 0      pipe0    pipe1\n",
      "0                  type       long    short\n",
      "1              diameter        1.0      2.0\n",
      "2                length        1.0      2.0\n",
      "3               epsilon        1.0      2.0\n",
      "4             num_pipes          1        2\n",
      "5  cross_sectional_area  0.7853975  3.14159\n"
     ]
    }
   ],
   "source": [
    "\n",
    "\n",
    "\n",
    "response = input(\"Is this the first instance for this pipe system : Y/N:\")\n",
    "\n",
    "# Prompts the user to answer information about the system\n",
    "if(response == \"Y\"):\n",
    "\n",
    "    pipeCount = int(input(\"Number of Pipes in the system: \"))\n",
    "    print(pipeCount)\n",
    "\n",
    "    d = {}\n",
    "    for pipe in range(pipeCount):\n",
    "        d[\"pipe\"+ str(pipe)] = PCall.pipeCall()\n",
    "    \n",
    "    \n",
    "    pipeFile = pd.DataFrame(d)\n",
    "    print(pipeFile)\n",
    "    pipeFile.to_csv('pipe_File.csv')\n",
    "\n",
    "\n",
    "#Pulls information from the file if a system has already been described.\n",
    "elif(response == 'N'): \n",
    "    \n",
    "    pipeFile = pd.read_csv('pipe_File.csv')\n",
    "    print(pipeFile)\n",
    "    \n",
    "\n",
    "FluidTop = float(input(\"Input Fluid height: \"))\n",
    "FluidBottom = float(input(\"Input Fluid top: \"))\n",
    "LargestDiameter = float(input(\"Top Diameter: \"))\n",
    "SmallestDiameter = float(input(\"Bottom Diameter: \"))\n",
    "intervalHeight = float(input(\"Rib Height: \"))\n",
    "BucketHeight = float(input(\"Input Bucket height: \"))\n",
    "\n",
    "length = []\n",
    "for i in range(len(pipeFile.columns)):\n",
    "    length.append(pipeFile.iloc[2,i])\n",
    "\n",
    "diam = []\n",
    "for j in range(len(pipeFile.columns)):\n",
    "    length.append(pipeFile.iloc[1,j])\n",
    "\n",
    "epsi = []\n",
    "for k in range(len(pipeFile.columns)):\n",
    "    length.append(pipeFile.iloc[2,k])\n",
    "\n",
    "\n",
    "\n",
    "FA.grouptask2(maxh = FluidTop, minh = FluidBottom, dh = intervalHeight, \n",
    "              height = BucketHeight, top = LargestDiameter, bottom = SmallestDiameter,\n",
    "              L=,D=, eps =)\n",
    "    \n"
   ]
  },
  {
   "cell_type": "code",
   "execution_count": null,
   "metadata": {},
   "outputs": [],
   "source": [
    "\n",
    "Heighto = float(input(\"Input Fluid height: \"))\n",
    "LargestDiameter = float(input(\"Top Diameter: \"))\n",
    "SmallestDiameter = float(input(\"Bottom Diameter: \"))\n",
    "intervalHeight = float(input(\"Rib Height: \"))\n",
    "\n",
    "intervals = int(Heighto/intervalHeight)\n",
    "slope = (LargestDiameter - SmallestDiameter)/Heighto\n",
    "\n",
    "h = np.arange(Heighto,0,-slope) \n",
    "\n",
    "radii = []\n",
    "for i in range(intervals):\n",
    "    radii.append((slope*Heighto/intervalHeight + SmallestDiameter)/2)\n",
    "\n",
    "vol = []    \n",
    "for j in radii:\n",
    "    vol.append(intervalHeight*3.14156*j**2)\n",
    "    \n",
    "\n",
    "    \n",
    "\n",
    "    \n"
   ]
  },
  {
   "cell_type": "code",
   "execution_count": 3,
   "metadata": {},
   "outputs": [
    {
     "ename": "NameError",
     "evalue": "name 'pipeFile' is not defined",
     "output_type": "error",
     "traceback": [
      "\u001b[1;31m---------------------------------------------------------------------------\u001b[0m",
      "\u001b[1;31mNameError\u001b[0m                                 Traceback (most recent call last)",
      "\u001b[1;32m<ipython-input-3-1a5d7eee1046>\u001b[0m in \u001b[0;36m<module>\u001b[1;34m\u001b[0m\n\u001b[0;32m      5\u001b[0m \u001b[0mnu\u001b[0m \u001b[1;33m=\u001b[0m \u001b[1;36m1.05\u001b[0m\u001b[1;33m*\u001b[0m\u001b[1;33m(\u001b[0m\u001b[1;36m10\u001b[0m\u001b[1;33m**\u001b[0m\u001b[1;33m-\u001b[0m\u001b[1;36m6\u001b[0m\u001b[1;33m)\u001b[0m\u001b[1;33m\u001b[0m\u001b[1;33m\u001b[0m\u001b[0m\n\u001b[0;32m      6\u001b[0m \u001b[1;33m\u001b[0m\u001b[0m\n\u001b[1;32m----> 7\u001b[1;33m \u001b[1;32mfor\u001b[0m \u001b[0mi\u001b[0m \u001b[1;32min\u001b[0m \u001b[0mrange\u001b[0m\u001b[1;33m(\u001b[0m\u001b[0mlen\u001b[0m\u001b[1;33m(\u001b[0m\u001b[0mpipeFile\u001b[0m\u001b[1;33m.\u001b[0m\u001b[0mcolumns\u001b[0m\u001b[1;33m)\u001b[0m\u001b[1;33m)\u001b[0m\u001b[1;33m:\u001b[0m\u001b[1;33m\u001b[0m\u001b[1;33m\u001b[0m\u001b[0m\n\u001b[0m\u001b[0;32m      8\u001b[0m     \u001b[0mE_D\u001b[0m \u001b[1;33m=\u001b[0m \u001b[0mpipeFile\u001b[0m\u001b[1;33m.\u001b[0m\u001b[0miloc\u001b[0m\u001b[1;33m[\u001b[0m\u001b[1;36m3\u001b[0m\u001b[1;33m,\u001b[0m\u001b[0mi\u001b[0m\u001b[1;33m]\u001b[0m\u001b[1;33m/\u001b[0m\u001b[0mpipeFile\u001b[0m\u001b[1;33m.\u001b[0m\u001b[0miloc\u001b[0m\u001b[1;33m[\u001b[0m\u001b[1;36m1\u001b[0m\u001b[1;33m,\u001b[0m\u001b[0mi\u001b[0m\u001b[1;33m]\u001b[0m\u001b[1;33m\u001b[0m\u001b[1;33m\u001b[0m\u001b[0m\n\u001b[0;32m      9\u001b[0m     \u001b[0mRE\u001b[0m \u001b[1;33m=\u001b[0m \u001b[0mVguess\u001b[0m\u001b[1;33m*\u001b[0m\u001b[0mpipeFile\u001b[0m\u001b[1;33m.\u001b[0m\u001b[0miloc\u001b[0m\u001b[1;33m[\u001b[0m\u001b[1;36m1\u001b[0m\u001b[1;33m,\u001b[0m\u001b[0mi\u001b[0m\u001b[1;33m]\u001b[0m\u001b[1;33m*\u001b[0m\u001b[0mnu\u001b[0m\u001b[1;33m\u001b[0m\u001b[1;33m\u001b[0m\u001b[0m\n",
      "\u001b[1;31mNameError\u001b[0m: name 'pipeFile' is not defined"
     ]
    }
   ],
   "source": [
    "hmax = float(input(\"Height of water: \"))\n",
    "hmin = 0\n",
    "dh = .015                             #This value will need to change\n",
    "nu = 1.05*(10**-6)\n",
    "Vresult = []\n",
    "for i in range(len(pipeFile.columns)):\n",
    "    \n",
    "    E_D = pipeFile.iloc[3,i]/pipeFile.iloc[1,i]\n",
    "    RE = Vguess*pipeFile.iloc[1,i]*nu\n",
    "    "
   ]
  }
 ],
 "metadata": {
  "kernelspec": {
   "display_name": "Python 3",
   "language": "python",
   "name": "python3"
  },
  "language_info": {
   "codemirror_mode": {
    "name": "ipython",
    "version": 3
   },
   "file_extension": ".py",
   "mimetype": "text/x-python",
   "name": "python",
   "nbconvert_exporter": "python",
   "pygments_lexer": "ipython3",
   "version": "3.7.4"
  },
  "orig_nbformat": 4
 },
 "nbformat": 4,
 "nbformat_minor": 2
}
